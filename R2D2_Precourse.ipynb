{
  "nbformat": 4,
  "nbformat_minor": 0,
  "metadata": {
    "colab": {
      "name": "R2D2 - Precourse.ipynb",
      "provenance": [],
      "collapsed_sections": [],
      "include_colab_link": true
    },
    "kernelspec": {
      "name": "python3",
      "display_name": "Python 3"
    }
  },
  "cells": [
    {
      "cell_type": "markdown",
      "metadata": {
        "id": "view-in-github",
        "colab_type": "text"
      },
      "source": [
        "<a href=\"https://colab.research.google.com/github/devruji/R2D2/blob/master/R2D2_Precourse.ipynb\" target=\"_parent\"><img src=\"https://colab.research.google.com/assets/colab-badge.svg\" alt=\"Open In Colab\"/></a>"
      ]
    },
    {
      "cell_type": "code",
      "metadata": {
        "id": "GluP3Mj2w7US",
        "colab_type": "code",
        "outputId": "1332454a-6ca8-4a33-9aea-c892dda3cacb",
        "colab": {
          "base_uri": "https://localhost:8080/",
          "height": 34
        }
      },
      "source": [
        "print(\"hello world\")"
      ],
      "execution_count": 4,
      "outputs": [
        {
          "output_type": "stream",
          "text": [
            "hello world\n"
          ],
          "name": "stdout"
        }
      ]
    },
    {
      "cell_type": "markdown",
      "metadata": {
        "id": "k8dnSvbvIb_y",
        "colab_type": "text"
      },
      "source": [
        "# Hello World"
      ]
    },
    {
      "cell_type": "code",
      "metadata": {
        "id": "RSBmkHaK_Ttq",
        "colab_type": "code",
        "outputId": "8bce1e03-62d5-4fb3-f553-a91ada2ad390",
        "colab": {
          "base_uri": "https://localhost:8080/",
          "height": 85
        }
      },
      "source": [
        "print(\"hello\"+\"world\")\n",
        "print(\"hello\" + \" \" + \"world\")\n",
        "print(\"hello\", \"world\")\n",
        "\"Colab is easy\""
      ],
      "execution_count": 5,
      "outputs": [
        {
          "output_type": "stream",
          "text": [
            "helloworld\n",
            "hello world\n",
            "hello world\n"
          ],
          "name": "stdout"
        },
        {
          "output_type": "execute_result",
          "data": {
            "text/plain": [
              "'Colab is easy'"
            ]
          },
          "metadata": {
            "tags": []
          },
          "execution_count": 5
        }
      ]
    },
    {
      "cell_type": "markdown",
      "metadata": {
        "id": "GFXXoNlpz16a",
        "colab_type": "text"
      },
      "source": [
        "# Python Variables\n"
      ]
    },
    {
      "cell_type": "code",
      "metadata": {
        "id": "tMD8rjsHWON5",
        "colab_type": "code",
        "outputId": "4498142a-d7d9-43df-d48e-d1744e08757d",
        "colab": {
          "base_uri": "https://localhost:8080/",
          "height": 34
        }
      },
      "source": [
        "# Int\n",
        "a = 1\n",
        "a"
      ],
      "execution_count": 6,
      "outputs": [
        {
          "output_type": "execute_result",
          "data": {
            "text/plain": [
              "1"
            ]
          },
          "metadata": {
            "tags": []
          },
          "execution_count": 6
        }
      ]
    },
    {
      "cell_type": "code",
      "metadata": {
        "id": "4bovsaOLw5Gr",
        "colab_type": "code",
        "colab": {}
      },
      "source": [
        "# This is comment"
      ],
      "execution_count": 0,
      "outputs": []
    },
    {
      "cell_type": "code",
      "metadata": {
        "id": "91G6iFPEWnc5",
        "colab_type": "code",
        "outputId": "7a18293b-bf46-49be-e38a-0bddabe48d49",
        "colab": {
          "base_uri": "https://localhost:8080/",
          "height": 34
        }
      },
      "source": [
        "# Float\n",
        "float(a)"
      ],
      "execution_count": 8,
      "outputs": [
        {
          "output_type": "execute_result",
          "data": {
            "text/plain": [
              "1.0"
            ]
          },
          "metadata": {
            "tags": []
          },
          "execution_count": 8
        }
      ]
    },
    {
      "cell_type": "code",
      "metadata": {
        "id": "reCYBrjSW-WZ",
        "colab_type": "code",
        "outputId": "3cd00954-17fb-456b-f893-76432611e7c8",
        "colab": {
          "base_uri": "https://localhost:8080/",
          "height": 34
        }
      },
      "source": [
        "# String\n",
        "str(a)"
      ],
      "execution_count": 9,
      "outputs": [
        {
          "output_type": "execute_result",
          "data": {
            "text/plain": [
              "'1'"
            ]
          },
          "metadata": {
            "tags": []
          },
          "execution_count": 9
        }
      ]
    },
    {
      "cell_type": "code",
      "metadata": {
        "id": "TopGFHnV_oqA",
        "colab_type": "code",
        "outputId": "2565e2b4-4f6d-4bda-f06b-084b3c26b0c6",
        "colab": {
          "base_uri": "https://localhost:8080/",
          "height": 34
        }
      },
      "source": [
        "str(a) + \"1\""
      ],
      "execution_count": 10,
      "outputs": [
        {
          "output_type": "execute_result",
          "data": {
            "text/plain": [
              "'11'"
            ]
          },
          "metadata": {
            "tags": []
          },
          "execution_count": 10
        }
      ]
    },
    {
      "cell_type": "code",
      "metadata": {
        "id": "w8Zv3DPAZUt3",
        "colab_type": "code",
        "outputId": "5d2850fa-93cd-4b81-e368-29a0f644c8b1",
        "colab": {
          "base_uri": "https://localhost:8080/",
          "height": 34
        }
      },
      "source": [
        "bool(a)"
      ],
      "execution_count": 11,
      "outputs": [
        {
          "output_type": "execute_result",
          "data": {
            "text/plain": [
              "True"
            ]
          },
          "metadata": {
            "tags": []
          },
          "execution_count": 11
        }
      ]
    },
    {
      "cell_type": "code",
      "metadata": {
        "id": "Zn5_2PblJ7DJ",
        "colab_type": "code",
        "outputId": "35823510-2df8-456b-d223-521edd33e9b3",
        "colab": {
          "base_uri": "https://localhost:8080/",
          "height": 34
        }
      },
      "source": [
        "bool(None)"
      ],
      "execution_count": 12,
      "outputs": [
        {
          "output_type": "execute_result",
          "data": {
            "text/plain": [
              "False"
            ]
          },
          "metadata": {
            "tags": []
          },
          "execution_count": 12
        }
      ]
    },
    {
      "cell_type": "code",
      "metadata": {
        "id": "gUCKSUJmZeNS",
        "colab_type": "code",
        "outputId": "6a268f32-1905-46e3-e721-29834274f8b6",
        "colab": {
          "base_uri": "https://localhost:8080/",
          "height": 34
        }
      },
      "source": [
        "type(a)"
      ],
      "execution_count": 13,
      "outputs": [
        {
          "output_type": "execute_result",
          "data": {
            "text/plain": [
              "int"
            ]
          },
          "metadata": {
            "tags": []
          },
          "execution_count": 13
        }
      ]
    },
    {
      "cell_type": "code",
      "metadata": {
        "id": "myq5TcAWe7ZP",
        "colab_type": "code",
        "outputId": "9393aeb1-6c6e-403c-890a-17211a2e29df",
        "colab": {
          "base_uri": "https://localhost:8080/",
          "height": 34
        }
      },
      "source": [
        "b = \"Python!\"\n",
        "b"
      ],
      "execution_count": 14,
      "outputs": [
        {
          "output_type": "execute_result",
          "data": {
            "text/plain": [
              "'Python!'"
            ]
          },
          "metadata": {
            "tags": []
          },
          "execution_count": 14
        }
      ]
    },
    {
      "cell_type": "markdown",
      "metadata": {
        "id": "_jGLwZ_5a5GA",
        "colab_type": "text"
      },
      "source": [
        "# Python Structures"
      ]
    },
    {
      "cell_type": "markdown",
      "metadata": {
        "id": "4SeTYcMBqLjD",
        "colab_type": "text"
      },
      "source": [
        "## List"
      ]
    },
    {
      "cell_type": "code",
      "metadata": {
        "id": "4YcpeyeUbGca",
        "colab_type": "code",
        "outputId": "0b5042f1-f941-4791-ddf1-ebc33a913f10",
        "colab": {
          "base_uri": "https://localhost:8080/",
          "height": 34
        }
      },
      "source": [
        "l = [b, a, a - 1, a]\n",
        "l"
      ],
      "execution_count": 15,
      "outputs": [
        {
          "output_type": "execute_result",
          "data": {
            "text/plain": [
              "['Python!', 1, 0, 1]"
            ]
          },
          "metadata": {
            "tags": []
          },
          "execution_count": 15
        }
      ]
    },
    {
      "cell_type": "code",
      "metadata": {
        "id": "h5tpLduMfpIY",
        "colab_type": "code",
        "outputId": "9ba5c96a-895c-4bcd-a40d-54ee2da9acae",
        "colab": {
          "base_uri": "https://localhost:8080/",
          "height": 34
        }
      },
      "source": [
        "len(l)"
      ],
      "execution_count": 16,
      "outputs": [
        {
          "output_type": "execute_result",
          "data": {
            "text/plain": [
              "4"
            ]
          },
          "metadata": {
            "tags": []
          },
          "execution_count": 16
        }
      ]
    },
    {
      "cell_type": "code",
      "metadata": {
        "id": "P_7Esctef3G5",
        "colab_type": "code",
        "outputId": "e6d4534e-e2eb-41d9-afd7-6aac94407bf5",
        "colab": {
          "base_uri": "https://localhost:8080/",
          "height": 34
        }
      },
      "source": [
        "l[3] = 0\n",
        "l"
      ],
      "execution_count": 17,
      "outputs": [
        {
          "output_type": "execute_result",
          "data": {
            "text/plain": [
              "['Python!', 1, 0, 0]"
            ]
          },
          "metadata": {
            "tags": []
          },
          "execution_count": 17
        }
      ]
    },
    {
      "cell_type": "code",
      "metadata": {
        "id": "VyVzFzgLCmGr",
        "colab_type": "code",
        "outputId": "44d065c4-9b2d-4df8-bf28-0ec9e5aa5d3d",
        "colab": {
          "base_uri": "https://localhost:8080/",
          "height": 181
        }
      },
      "source": [
        "# NameError\n",
        "l[4] = \":)\""
      ],
      "execution_count": 18,
      "outputs": [
        {
          "output_type": "error",
          "ename": "IndexError",
          "evalue": "ignored",
          "traceback": [
            "\u001b[1;31m---------------------------------------------------------------------------\u001b[0m",
            "\u001b[1;31mIndexError\u001b[0m                                Traceback (most recent call last)",
            "\u001b[1;32m<ipython-input-18-bf0f23f4e4c3>\u001b[0m in \u001b[0;36m<module>\u001b[1;34m\u001b[0m\n\u001b[0;32m      1\u001b[0m \u001b[1;31m# NameError\u001b[0m\u001b[1;33m\u001b[0m\u001b[1;33m\u001b[0m\u001b[1;33m\u001b[0m\u001b[0m\n\u001b[1;32m----> 2\u001b[1;33m \u001b[0ml\u001b[0m\u001b[1;33m[\u001b[0m\u001b[1;36m4\u001b[0m\u001b[1;33m]\u001b[0m \u001b[1;33m=\u001b[0m \u001b[1;34m\":)\"\u001b[0m\u001b[1;33m\u001b[0m\u001b[1;33m\u001b[0m\u001b[0m\n\u001b[0m",
            "\u001b[1;31mIndexError\u001b[0m: list assignment index out of range"
          ]
        }
      ]
    },
    {
      "cell_type": "code",
      "metadata": {
        "id": "jreK8tLJCvj5",
        "colab_type": "code",
        "colab": {}
      },
      "source": [
        "l"
      ],
      "execution_count": 0,
      "outputs": []
    },
    {
      "cell_type": "code",
      "metadata": {
        "id": "omSAISZ5CweV",
        "colab_type": "code",
        "colab": {}
      },
      "source": [
        "l.append(\":)\")\n",
        "l"
      ],
      "execution_count": 0,
      "outputs": []
    },
    {
      "cell_type": "code",
      "metadata": {
        "id": "SzfHN-iiC6Ag",
        "colab_type": "code",
        "colab": {}
      },
      "source": [
        "len(l)"
      ],
      "execution_count": 0,
      "outputs": []
    },
    {
      "cell_type": "code",
      "metadata": {
        "id": "MIQd0KpXC8DE",
        "colab_type": "code",
        "colab": {}
      },
      "source": [
        "l.pop()\n",
        "l"
      ],
      "execution_count": 0,
      "outputs": []
    },
    {
      "cell_type": "markdown",
      "metadata": {
        "id": "DtYagBS_qQFy",
        "colab_type": "text"
      },
      "source": [
        "## Tuple"
      ]
    },
    {
      "cell_type": "code",
      "metadata": {
        "id": "ueDnLunycWaY",
        "colab_type": "code",
        "colab": {}
      },
      "source": [
        "t = (0, 1, 2, 3, 4)"
      ],
      "execution_count": 0,
      "outputs": []
    },
    {
      "cell_type": "code",
      "metadata": {
        "id": "au0wM8XCgn_B",
        "colab_type": "code",
        "colab": {}
      },
      "source": [
        "len(t)"
      ],
      "execution_count": 0,
      "outputs": []
    },
    {
      "cell_type": "code",
      "metadata": {
        "id": "_rkBkHYUguGs",
        "colab_type": "code",
        "colab": {}
      },
      "source": [
        "t[0:3]"
      ],
      "execution_count": 0,
      "outputs": []
    },
    {
      "cell_type": "code",
      "metadata": {
        "id": "n3myc9P4hCBD",
        "colab_type": "code",
        "colab": {}
      },
      "source": [
        "t[-1]"
      ],
      "execution_count": 0,
      "outputs": []
    },
    {
      "cell_type": "code",
      "metadata": {
        "id": "S0LgakJNhKZE",
        "colab_type": "code",
        "colab": {}
      },
      "source": [
        "t[-3:]"
      ],
      "execution_count": 0,
      "outputs": []
    },
    {
      "cell_type": "code",
      "metadata": {
        "id": "vj_zrSjyhZBo",
        "colab_type": "code",
        "colab": {}
      },
      "source": [
        "# TypeError: Cannot edit tuple.\n",
        "t[4] = 5"
      ],
      "execution_count": 0,
      "outputs": []
    },
    {
      "cell_type": "markdown",
      "metadata": {
        "id": "5ReonijCBhrj",
        "colab_type": "text"
      },
      "source": [
        "## Dictionary"
      ]
    },
    {
      "cell_type": "code",
      "metadata": {
        "id": "QvXx0QchiTts",
        "colab_type": "code",
        "colab": {}
      },
      "source": [
        "grade = {\n",
        "    \"A\" : 80,\n",
        "    \"B\" : 70,\n",
        "    \"C\" : 60,\n",
        "    \"D\" : 50\n",
        "}\n",
        "grade"
      ],
      "execution_count": 0,
      "outputs": []
    },
    {
      "cell_type": "code",
      "metadata": {
        "id": "kK1D_Izjq8Kj",
        "colab_type": "code",
        "colab": {}
      },
      "source": [
        "grade[\"A\"]"
      ],
      "execution_count": 0,
      "outputs": []
    },
    {
      "cell_type": "code",
      "metadata": {
        "id": "4hSmxQg8rAOa",
        "colab_type": "code",
        "colab": {}
      },
      "source": [
        "grade[\"B+\"] = 75\n",
        "grade"
      ],
      "execution_count": 0,
      "outputs": []
    },
    {
      "cell_type": "code",
      "metadata": {
        "id": "TAXxt9Z2hgwz",
        "colab_type": "code",
        "colab": {}
      },
      "source": [
        "d = {}\n",
        "d[\"s001\"] = \"Perth\"\n",
        "d[\"s002\"] = \"Fon\""
      ],
      "execution_count": 0,
      "outputs": []
    },
    {
      "cell_type": "code",
      "metadata": {
        "id": "pJdFriSPBuDy",
        "colab_type": "code",
        "colab": {}
      },
      "source": [
        "d[\"s001\"]"
      ],
      "execution_count": 0,
      "outputs": []
    },
    {
      "cell_type": "markdown",
      "metadata": {
        "id": "3ZyIaJomrYPJ",
        "colab_type": "text"
      },
      "source": [
        "# Python String"
      ]
    },
    {
      "cell_type": "code",
      "metadata": {
        "id": "PwkD2_FxrXjm",
        "colab_type": "code",
        "colab": {}
      },
      "source": [
        "sentence = \" Hello Corgi. I am hungry. \""
      ],
      "execution_count": 0,
      "outputs": []
    },
    {
      "cell_type": "code",
      "metadata": {
        "id": "OfSs6-_Xr7Nn",
        "colab_type": "code",
        "outputId": "433ab826-851d-4e89-eb4d-8f757873e8c2",
        "colab": {
          "base_uri": "https://localhost:8080/",
          "height": 164
        }
      },
      "source": [
        "sentence[1]"
      ],
      "execution_count": 19,
      "outputs": [
        {
          "output_type": "error",
          "ename": "NameError",
          "evalue": "ignored",
          "traceback": [
            "\u001b[1;31m---------------------------------------------------------------------------\u001b[0m",
            "\u001b[1;31mNameError\u001b[0m                                 Traceback (most recent call last)",
            "\u001b[1;32m<ipython-input-19-868d117fd078>\u001b[0m in \u001b[0;36m<module>\u001b[1;34m\u001b[0m\n\u001b[1;32m----> 1\u001b[1;33m \u001b[0msentence\u001b[0m\u001b[1;33m[\u001b[0m\u001b[1;36m1\u001b[0m\u001b[1;33m]\u001b[0m\u001b[1;33m\u001b[0m\u001b[1;33m\u001b[0m\u001b[0m\n\u001b[0m",
            "\u001b[1;31mNameError\u001b[0m: name 'sentence' is not defined"
          ]
        }
      ]
    },
    {
      "cell_type": "code",
      "metadata": {
        "id": "9-o4xocQ5she",
        "colab_type": "code",
        "colab": {}
      },
      "source": [
        "sentence[1:12]"
      ],
      "execution_count": 0,
      "outputs": []
    },
    {
      "cell_type": "code",
      "metadata": {
        "id": "nxSxmQcyrmQQ",
        "colab_type": "code",
        "colab": {}
      },
      "source": [
        "sentence.strip()"
      ],
      "execution_count": 0,
      "outputs": []
    },
    {
      "cell_type": "code",
      "metadata": {
        "id": "r1I9hlv6r4FB",
        "colab_type": "code",
        "outputId": "2130ec1a-ced7-4008-e250-f43a2017d9ab",
        "colab": {
          "base_uri": "https://localhost:8080/",
          "height": 164
        }
      },
      "source": [
        "sentence.strip().split(' ')"
      ],
      "execution_count": 20,
      "outputs": [
        {
          "output_type": "error",
          "ename": "NameError",
          "evalue": "ignored",
          "traceback": [
            "\u001b[1;31m---------------------------------------------------------------------------\u001b[0m",
            "\u001b[1;31mNameError\u001b[0m                                 Traceback (most recent call last)",
            "\u001b[1;32m<ipython-input-20-c17f2ce6e2a7>\u001b[0m in \u001b[0;36m<module>\u001b[1;34m\u001b[0m\n\u001b[1;32m----> 1\u001b[1;33m \u001b[0msentence\u001b[0m\u001b[1;33m.\u001b[0m\u001b[0mstrip\u001b[0m\u001b[1;33m(\u001b[0m\u001b[1;33m)\u001b[0m\u001b[1;33m.\u001b[0m\u001b[0msplit\u001b[0m\u001b[1;33m(\u001b[0m\u001b[1;34m' '\u001b[0m\u001b[1;33m)\u001b[0m\u001b[1;33m\u001b[0m\u001b[1;33m\u001b[0m\u001b[0m\n\u001b[0m",
            "\u001b[1;31mNameError\u001b[0m: name 'sentence' is not defined"
          ]
        }
      ]
    },
    {
      "cell_type": "code",
      "metadata": {
        "id": "BdxmLMEuqv2j",
        "colab_type": "code",
        "colab": {}
      },
      "source": [
        "corgi = ' '.join(sentence.strip().split(' '))"
      ],
      "execution_count": 0,
      "outputs": []
    },
    {
      "cell_type": "markdown",
      "metadata": {
        "id": "6Ktf3sJeqq6x",
        "colab_type": "text"
      },
      "source": [
        "# Loop and Condition"
      ]
    },
    {
      "cell_type": "code",
      "metadata": {
        "id": "N4TOwdrCMlaY",
        "colab_type": "code",
        "colab": {}
      },
      "source": [
        "l"
      ],
      "execution_count": 0,
      "outputs": []
    },
    {
      "cell_type": "code",
      "metadata": {
        "id": "Iguikec5vq7K",
        "colab_type": "code",
        "colab": {}
      },
      "source": [
        "for item in l:\n",
        "  print(item)"
      ],
      "execution_count": 0,
      "outputs": []
    },
    {
      "cell_type": "code",
      "metadata": {
        "id": "UPMugiFPMyLz",
        "colab_type": "code",
        "colab": {}
      },
      "source": [
        "t"
      ],
      "execution_count": 0,
      "outputs": []
    },
    {
      "cell_type": "code",
      "metadata": {
        "id": "lOBC3OJpvzGK",
        "colab_type": "code",
        "colab": {}
      },
      "source": [
        "# List Comprehension\n",
        "[i for i in t]"
      ],
      "execution_count": 0,
      "outputs": []
    },
    {
      "cell_type": "code",
      "metadata": {
        "id": "jqnhTZOYM9gq",
        "colab_type": "code",
        "colab": {}
      },
      "source": [
        "[i for i in range(100)]"
      ],
      "execution_count": 0,
      "outputs": []
    },
    {
      "cell_type": "markdown",
      "metadata": {
        "id": "pI897Mvy4yls",
        "colab_type": "text"
      },
      "source": [
        "## If condition"
      ]
    },
    {
      "cell_type": "code",
      "metadata": {
        "id": "o2ASqKBy40vF",
        "colab_type": "code",
        "outputId": "15ba09ec-6903-4f94-87f3-b7f5a0458fdf",
        "colab": {
          "base_uri": "https://localhost:8080/",
          "height": 215
        }
      },
      "source": [
        "if len(t) == 5:\n",
        "  print('length is 5')\n",
        "else:\n",
        "  print('length not equals 5')"
      ],
      "execution_count": 21,
      "outputs": [
        {
          "output_type": "error",
          "ename": "NameError",
          "evalue": "ignored",
          "traceback": [
            "\u001b[1;31m---------------------------------------------------------------------------\u001b[0m",
            "\u001b[1;31mNameError\u001b[0m                                 Traceback (most recent call last)",
            "\u001b[1;32m<ipython-input-21-795eb707b283>\u001b[0m in \u001b[0;36m<module>\u001b[1;34m\u001b[0m\n\u001b[1;32m----> 1\u001b[1;33m \u001b[1;32mif\u001b[0m \u001b[0mlen\u001b[0m\u001b[1;33m(\u001b[0m\u001b[0mt\u001b[0m\u001b[1;33m)\u001b[0m \u001b[1;33m==\u001b[0m \u001b[1;36m5\u001b[0m\u001b[1;33m:\u001b[0m\u001b[1;33m\u001b[0m\u001b[1;33m\u001b[0m\u001b[0m\n\u001b[0m\u001b[0;32m      2\u001b[0m   \u001b[0mprint\u001b[0m\u001b[1;33m(\u001b[0m\u001b[1;34m'length is 5'\u001b[0m\u001b[1;33m)\u001b[0m\u001b[1;33m\u001b[0m\u001b[1;33m\u001b[0m\u001b[0m\n\u001b[0;32m      3\u001b[0m \u001b[1;32melse\u001b[0m\u001b[1;33m:\u001b[0m\u001b[1;33m\u001b[0m\u001b[1;33m\u001b[0m\u001b[0m\n\u001b[0;32m      4\u001b[0m   \u001b[0mprint\u001b[0m\u001b[1;33m(\u001b[0m\u001b[1;34m'length not equals 5'\u001b[0m\u001b[1;33m)\u001b[0m\u001b[1;33m\u001b[0m\u001b[1;33m\u001b[0m\u001b[0m\n",
            "\u001b[1;31mNameError\u001b[0m: name 't' is not defined"
          ]
        }
      ]
    },
    {
      "cell_type": "code",
      "metadata": {
        "id": "C7bVD-2V75P-",
        "colab_type": "code",
        "colab": {}
      },
      "source": [
        "score = 90\n",
        "if score >= grade[\"A\"]:\n",
        "  print(\"A\")\n",
        "  print(\"Good Job!\")\n",
        "elif score >= grade[\"B+\"]:\n",
        "  print(\"B+\")\n",
        "elif score >= grade[\"B\"]:\n",
        "  print(\"B\")\n",
        "elif score >= grade[\"C\"]:\n",
        "  print(\"C\")\n",
        "elif score >= grade[\"D\"]:\n",
        "  print(\"D\")\n",
        "else:\n",
        "  print(\"F\")"
      ],
      "execution_count": 0,
      "outputs": []
    },
    {
      "cell_type": "markdown",
      "metadata": {
        "id": "Ftu2euHycYAA",
        "colab_type": "text"
      },
      "source": [
        "# Python Packages"
      ]
    },
    {
      "cell_type": "code",
      "metadata": {
        "id": "efDIf2UvcjT8",
        "colab_type": "code",
        "colab": {}
      },
      "source": [
        "import __hello__"
      ],
      "execution_count": 0,
      "outputs": []
    },
    {
      "cell_type": "code",
      "metadata": {
        "id": "7_LUlsGTcxDT",
        "colab_type": "code",
        "colab": {}
      },
      "source": [
        "import math\n",
        "\n",
        "math.pi"
      ],
      "execution_count": 0,
      "outputs": []
    },
    {
      "cell_type": "markdown",
      "metadata": {
        "id": "USn2zGrvdYOy",
        "colab_type": "text"
      },
      "source": [
        "or using from statement"
      ]
    },
    {
      "cell_type": "code",
      "metadata": {
        "id": "YVigxwRvdFcL",
        "colab_type": "code",
        "colab": {}
      },
      "source": [
        "from math import pi\n",
        "\n",
        "pi"
      ],
      "execution_count": 0,
      "outputs": []
    },
    {
      "cell_type": "markdown",
      "metadata": {
        "id": "dEyyUh5P70iV",
        "colab_type": "text"
      },
      "source": [
        "Datetime function"
      ]
    },
    {
      "cell_type": "code",
      "metadata": {
        "id": "qFB9ARmS5Ay_",
        "colab_type": "code",
        "colab": {}
      },
      "source": [
        "import datetime\n",
        "\n",
        "now = datetime.datetime.now()\n",
        "now"
      ],
      "execution_count": 0,
      "outputs": []
    },
    {
      "cell_type": "code",
      "metadata": {
        "id": "Hjf2A4WAO4Sh",
        "colab_type": "code",
        "colab": {}
      },
      "source": [
        "now.isoformat()"
      ],
      "execution_count": 0,
      "outputs": []
    },
    {
      "cell_type": "code",
      "metadata": {
        "id": "mP7YZxDR5X6l",
        "colab_type": "code",
        "colab": {}
      },
      "source": [
        "today = datetime.date.today()"
      ],
      "execution_count": 0,
      "outputs": []
    },
    {
      "cell_type": "code",
      "metadata": {
        "id": "yaWMiGH0O-sI",
        "colab_type": "code",
        "colab": {}
      },
      "source": [
        "today.isoformat()"
      ],
      "execution_count": 0,
      "outputs": []
    },
    {
      "cell_type": "markdown",
      "metadata": {
        "id": "pjRhF6m9w0WZ",
        "colab_type": "text"
      },
      "source": [
        "# Simple functions"
      ]
    },
    {
      "cell_type": "code",
      "metadata": {
        "id": "4Qruy5d21l76",
        "colab_type": "code",
        "outputId": "5a3cdb4c-8053-4a3b-bc54-5fbc13be553f",
        "colab": {
          "base_uri": "https://localhost:8080/",
          "height": 300
        }
      },
      "source": [
        "def circle_area(radius):\n",
        "  return pi * radius * radius\n",
        "\n",
        "circle_area(2)"
      ],
      "execution_count": 22,
      "outputs": [
        {
          "output_type": "error",
          "ename": "NameError",
          "evalue": "ignored",
          "traceback": [
            "\u001b[1;31m---------------------------------------------------------------------------\u001b[0m",
            "\u001b[1;31mNameError\u001b[0m                                 Traceback (most recent call last)",
            "\u001b[1;32m<ipython-input-22-ce24be35c968>\u001b[0m in \u001b[0;36m<module>\u001b[1;34m\u001b[0m\n\u001b[0;32m      2\u001b[0m   \u001b[1;32mreturn\u001b[0m \u001b[0mpi\u001b[0m \u001b[1;33m*\u001b[0m \u001b[0mradius\u001b[0m \u001b[1;33m*\u001b[0m \u001b[0mradius\u001b[0m\u001b[1;33m\u001b[0m\u001b[1;33m\u001b[0m\u001b[0m\n\u001b[0;32m      3\u001b[0m \u001b[1;33m\u001b[0m\u001b[0m\n\u001b[1;32m----> 4\u001b[1;33m \u001b[0mcircle_area\u001b[0m\u001b[1;33m(\u001b[0m\u001b[1;36m2\u001b[0m\u001b[1;33m)\u001b[0m\u001b[1;33m\u001b[0m\u001b[1;33m\u001b[0m\u001b[0m\n\u001b[0m",
            "\u001b[1;32m<ipython-input-22-ce24be35c968>\u001b[0m in \u001b[0;36mcircle_area\u001b[1;34m(radius)\u001b[0m\n\u001b[0;32m      1\u001b[0m \u001b[1;32mdef\u001b[0m \u001b[0mcircle_area\u001b[0m\u001b[1;33m(\u001b[0m\u001b[0mradius\u001b[0m\u001b[1;33m)\u001b[0m\u001b[1;33m:\u001b[0m\u001b[1;33m\u001b[0m\u001b[1;33m\u001b[0m\u001b[0m\n\u001b[1;32m----> 2\u001b[1;33m   \u001b[1;32mreturn\u001b[0m \u001b[0mpi\u001b[0m \u001b[1;33m*\u001b[0m \u001b[0mradius\u001b[0m \u001b[1;33m*\u001b[0m \u001b[0mradius\u001b[0m\u001b[1;33m\u001b[0m\u001b[1;33m\u001b[0m\u001b[0m\n\u001b[0m\u001b[0;32m      3\u001b[0m \u001b[1;33m\u001b[0m\u001b[0m\n\u001b[0;32m      4\u001b[0m \u001b[0mcircle_area\u001b[0m\u001b[1;33m(\u001b[0m\u001b[1;36m2\u001b[0m\u001b[1;33m)\u001b[0m\u001b[1;33m\u001b[0m\u001b[1;33m\u001b[0m\u001b[0m\n",
            "\u001b[1;31mNameError\u001b[0m: name 'pi' is not defined"
          ]
        }
      ]
    },
    {
      "cell_type": "code",
      "metadata": {
        "id": "-rtsx6QW12aM",
        "colab_type": "code",
        "colab": {}
      },
      "source": [
        "def rectangle_area(height, width):\n",
        "  return height * width\n",
        "\n",
        "square_area(4, 5)"
      ],
      "execution_count": 0,
      "outputs": []
    },
    {
      "cell_type": "code",
      "metadata": {
        "id": "lswe1z6S3rtX",
        "colab_type": "code",
        "colab": {}
      },
      "source": [
        "def conversion(amount, rate=31.33):\n",
        "  return amount * rate\n",
        "\n",
        "\n",
        "conversion(30)"
      ],
      "execution_count": 0,
      "outputs": []
    },
    {
      "cell_type": "code",
      "metadata": {
        "id": "uWD-VVlP4jFx",
        "colab_type": "code",
        "colab": {}
      },
      "source": [
        "conversion(30, 33.3333)"
      ],
      "execution_count": 0,
      "outputs": []
    },
    {
      "cell_type": "markdown",
      "metadata": {
        "id": "OaxEeWQTwA1V",
        "colab_type": "text"
      },
      "source": [
        "# Working with files"
      ]
    },
    {
      "cell_type": "markdown",
      "metadata": {
        "id": "Z5184gI48YK-",
        "colab_type": "text"
      },
      "source": [
        "## Write file"
      ]
    },
    {
      "cell_type": "code",
      "metadata": {
        "id": "SjXJ5yiP4wfu",
        "colab_type": "code",
        "colab": {}
      },
      "source": [
        "file = open('output.csv', 'w')\n",
        "file.write(\"date,item,price\\n\")\n",
        "file.write(\"2020-02-07,Milk,26.5\\n\")\n",
        "file.write(\"2020-02-08,Water,7\\n\")\n",
        "file.close()"
      ],
      "execution_count": 0,
      "outputs": []
    },
    {
      "cell_type": "code",
      "metadata": {
        "id": "W5C4Uoei93_9",
        "colab_type": "code",
        "colab": {}
      },
      "source": [
        "header = (\"date\", \"item\", \"price\")\n",
        "content = [\n",
        "    (\"2020-02-07\", \"Milk\", \"26.5\"),\n",
        "    (\"2020-02-08\", \"Water\", \"7\"),\n",
        "    (\"2020-02-08\", \"Mask\", \"20\"),\n",
        "    (\"2020-02-08\", \"Lays\", \"10\"),\n",
        "    (\"2020-02-08\", \"Rice\", \"6\")\n",
        "]\n",
        "\n",
        "file = open('products.csv', 'w')\n",
        "file.write(\",\".join(header) + \"\\n\")\n",
        "\n",
        "for row in content:\n",
        "  file.write(\",\".join(row) + \"\\n\")\n",
        "\n",
        "file.close()"
      ],
      "execution_count": 0,
      "outputs": []
    },
    {
      "cell_type": "markdown",
      "metadata": {
        "id": "PFMeyDyGAnxk",
        "colab_type": "text"
      },
      "source": [
        "## Read file"
      ]
    },
    {
      "cell_type": "code",
      "metadata": {
        "id": "BKbZ1KQ9Am-3",
        "colab_type": "code",
        "colab": {}
      },
      "source": [
        "with open(\"products.csv\", \"r\") as f:\n",
        "  product = f.readlines()\n",
        "\n",
        "product"
      ],
      "execution_count": 0,
      "outputs": []
    },
    {
      "cell_type": "markdown",
      "metadata": {
        "id": "nu2d7t-dAisB",
        "colab_type": "text"
      },
      "source": [
        "## Use Pandas to Read/Write file"
      ]
    },
    {
      "cell_type": "markdown",
      "metadata": {
        "id": "2u_LKLTOCD7r",
        "colab_type": "text"
      },
      "source": [
        "Read CSV file with pandas"
      ]
    },
    {
      "cell_type": "code",
      "metadata": {
        "id": "gaXfQ73DAh6v",
        "colab_type": "code",
        "colab": {}
      },
      "source": [
        "import pandas as pd\n",
        "\n",
        "products = pd.read_csv(\"products.csv\")\n",
        "products"
      ],
      "execution_count": 0,
      "outputs": []
    },
    {
      "cell_type": "code",
      "metadata": {
        "id": "dmyfjfirRCqn",
        "colab_type": "code",
        "outputId": "5308b456-a7e7-4998-fa82-59ce43017e10",
        "colab": {
          "base_uri": "https://localhost:8080/",
          "height": 164
        }
      },
      "source": [
        "type(products)"
      ],
      "execution_count": 23,
      "outputs": [
        {
          "output_type": "error",
          "ename": "NameError",
          "evalue": "ignored",
          "traceback": [
            "\u001b[1;31m---------------------------------------------------------------------------\u001b[0m",
            "\u001b[1;31mNameError\u001b[0m                                 Traceback (most recent call last)",
            "\u001b[1;32m<ipython-input-23-c12893f0d698>\u001b[0m in \u001b[0;36m<module>\u001b[1;34m\u001b[0m\n\u001b[1;32m----> 1\u001b[1;33m \u001b[0mtype\u001b[0m\u001b[1;33m(\u001b[0m\u001b[0mproducts\u001b[0m\u001b[1;33m)\u001b[0m\u001b[1;33m\u001b[0m\u001b[1;33m\u001b[0m\u001b[0m\n\u001b[0m",
            "\u001b[1;31mNameError\u001b[0m: name 'products' is not defined"
          ]
        }
      ]
    },
    {
      "cell_type": "markdown",
      "metadata": {
        "id": "RscjixvpCZ7A",
        "colab_type": "text"
      },
      "source": [
        "Write to CSV"
      ]
    },
    {
      "cell_type": "code",
      "metadata": {
        "id": "YGdfLXeHCHng",
        "colab_type": "code",
        "colab": {}
      },
      "source": [
        "products.to_csv(\"new_products.csv\")\n",
        "products"
      ],
      "execution_count": 0,
      "outputs": []
    },
    {
      "cell_type": "markdown",
      "metadata": {
        "id": "QO-awEUvwEEo",
        "colab_type": "text"
      },
      "source": [
        "## JSON"
      ]
    },
    {
      "cell_type": "markdown",
      "metadata": {
        "id": "zLJProKfGJXj",
        "colab_type": "text"
      },
      "source": [
        "JSON dump = export JSON"
      ]
    },
    {
      "cell_type": "code",
      "metadata": {
        "id": "fj5To2YCRStw",
        "colab_type": "code",
        "colab": {}
      },
      "source": [
        "grade"
      ],
      "execution_count": 0,
      "outputs": []
    },
    {
      "cell_type": "code",
      "metadata": {
        "id": "1qwDmHNuv_lR",
        "colab_type": "code",
        "colab": {}
      },
      "source": [
        "import json\n",
        "json.dumps(grade)"
      ],
      "execution_count": 0,
      "outputs": []
    },
    {
      "cell_type": "code",
      "metadata": {
        "id": "b_HFy_oJRbee",
        "colab_type": "code",
        "colab": {}
      },
      "source": [
        "type(json.dumps(grade))"
      ],
      "execution_count": 0,
      "outputs": []
    },
    {
      "cell_type": "code",
      "metadata": {
        "id": "3VcEg89FwOdA",
        "colab_type": "code",
        "colab": {}
      },
      "source": [
        "# Save to output file grade.json\n",
        "json.dump(grade, open(\"grade.json\", \"w\"))"
      ],
      "execution_count": 0,
      "outputs": []
    },
    {
      "cell_type": "markdown",
      "metadata": {
        "id": "fcZ-ERRKGMwo",
        "colab_type": "text"
      },
      "source": [
        "JSON load = import JSON"
      ]
    },
    {
      "cell_type": "code",
      "metadata": {
        "id": "DNe3gRwj6sKR",
        "colab_type": "code",
        "colab": {}
      },
      "source": [
        "students = json.loads('{\"student1\": \"Perth\", \"student2\": \"Fon\"}')\n",
        "students"
      ],
      "execution_count": 0,
      "outputs": []
    },
    {
      "cell_type": "code",
      "metadata": {
        "id": "TaOV6cgQ7HWw",
        "colab_type": "code",
        "colab": {}
      },
      "source": [
        "type(students)"
      ],
      "execution_count": 0,
      "outputs": []
    },
    {
      "cell_type": "markdown",
      "metadata": {
        "id": "AT131s4MZ-0X",
        "colab_type": "text"
      },
      "source": [
        "# Tips"
      ]
    },
    {
      "cell_type": "code",
      "metadata": {
        "id": "v7JsDop7ZuIZ",
        "colab_type": "code",
        "colab": {}
      },
      "source": [
        "bool(\"False\")"
      ],
      "execution_count": 0,
      "outputs": []
    },
    {
      "cell_type": "code",
      "metadata": {
        "id": "HeRzcQUZaBbz",
        "colab_type": "code",
        "colab": {}
      },
      "source": [
        "import ast\n",
        "ast.literal_eval(\"False\")"
      ],
      "execution_count": 0,
      "outputs": []
    },
    {
      "cell_type": "code",
      "metadata": {
        "id": "HIUfvGnyblch",
        "colab_type": "code",
        "outputId": "b365803c-0c35-49d5-814a-c8361395b320",
        "colab": {
          "base_uri": "https://localhost:8080/",
          "height": 374
        }
      },
      "source": [
        "import this"
      ],
      "execution_count": 24,
      "outputs": [
        {
          "output_type": "stream",
          "text": [
            "The Zen of Python, by Tim Peters\n",
            "\n",
            "Beautiful is better than ugly.\n",
            "Explicit is better than implicit.\n",
            "Simple is better than complex.\n",
            "Complex is better than complicated.\n",
            "Flat is better than nested.\n",
            "Sparse is better than dense.\n",
            "Readability counts.\n",
            "Special cases aren't special enough to break the rules.\n",
            "Although practicality beats purity.\n",
            "Errors should never pass silently.\n",
            "Unless explicitly silenced.\n",
            "In the face of ambiguity, refuse the temptation to guess.\n",
            "There should be one-- and preferably only one --obvious way to do it.\n",
            "Although that way may not be obvious at first unless you're Dutch.\n",
            "Now is better than never.\n",
            "Although never is often better than *right* now.\n",
            "If the implementation is hard to explain, it's a bad idea.\n",
            "If the implementation is easy to explain, it may be a good idea.\n",
            "Namespaces are one honking great idea -- let's do more of those!\n"
          ],
          "name": "stdout"
        }
      ]
    },
    {
      "cell_type": "markdown",
      "metadata": {
        "id": "325icnU0U-zj",
        "colab_type": "text"
      },
      "source": [
        "# Connect to MySQL using PyMysql"
      ]
    },
    {
      "cell_type": "code",
      "metadata": {
        "id": "XI69DrmIUvV2",
        "colab_type": "code",
        "outputId": "9bd9e063-bad7-4ee9-dfb4-6c6c9d5190fa",
        "colab": {
          "base_uri": "https://localhost:8080/",
          "height": 85
        }
      },
      "source": [
        "!pip install pymysql"
      ],
      "execution_count": 25,
      "outputs": [
        {
          "output_type": "stream",
          "text": [
            "Collecting pymysql\n",
            "  Downloading PyMySQL-0.9.3-py2.py3-none-any.whl (47 kB)\n",
            "Installing collected packages: pymysql\n",
            "Successfully installed pymysql-0.9.3\n"
          ],
          "name": "stdout"
        }
      ]
    },
    {
      "cell_type": "markdown",
      "metadata": {
        "id": "U4Su6uewVv9w",
        "colab_type": "text"
      },
      "source": [
        "Connect to Sample DB"
      ]
    },
    {
      "cell_type": "code",
      "metadata": {
        "id": "iUBwIpIY7R9A",
        "colab_type": "code",
        "colab": {}
      },
      "source": [
        ""
      ],
      "execution_count": 0,
      "outputs": []
    },
    {
      "cell_type": "code",
      "metadata": {
        "id": "cgi4HP8dVypG",
        "colab_type": "code",
        "colab": {
          "base_uri": "https://localhost:8080/",
          "height": 232
        },
        "outputId": "10cbe8d3-4479-4399-804e-62021c347054"
      },
      "source": [
        "import pymysql.cursors\n",
        "import pandas as pd\n",
        "\n",
        "# Connect to the database\n",
        "connection = pymysql.connect(host='',\n",
        "                             port=port,\n",
        "                             user='',\n",
        "                             password='',\n",
        "                             db='',\n",
        "                             cursorclass=pymysql.cursors.DictCursor)"
      ],
      "execution_count": 26,
      "outputs": [
        {
          "output_type": "error",
          "ename": "NameError",
          "evalue": "ignored",
          "traceback": [
            "\u001b[1;31m---------------------------------------------------------------------------\u001b[0m",
            "\u001b[1;31mNameError\u001b[0m                                 Traceback (most recent call last)",
            "\u001b[1;32m<ipython-input-26-04b286d54af1>\u001b[0m in \u001b[0;36m<module>\u001b[1;34m\u001b[0m\n\u001b[0;32m      4\u001b[0m \u001b[1;31m# Connect to the database\u001b[0m\u001b[1;33m\u001b[0m\u001b[1;33m\u001b[0m\u001b[1;33m\u001b[0m\u001b[0m\n\u001b[0;32m      5\u001b[0m connection = pymysql.connect(host='',\n\u001b[1;32m----> 6\u001b[1;33m                              \u001b[0mport\u001b[0m\u001b[1;33m=\u001b[0m\u001b[0mport\u001b[0m\u001b[1;33m,\u001b[0m\u001b[1;33m\u001b[0m\u001b[1;33m\u001b[0m\u001b[0m\n\u001b[0m\u001b[0;32m      7\u001b[0m                              \u001b[0muser\u001b[0m\u001b[1;33m=\u001b[0m\u001b[1;34m''\u001b[0m\u001b[1;33m,\u001b[0m\u001b[1;33m\u001b[0m\u001b[1;33m\u001b[0m\u001b[0m\n\u001b[0;32m      8\u001b[0m                              \u001b[0mpassword\u001b[0m\u001b[1;33m=\u001b[0m\u001b[1;34m''\u001b[0m\u001b[1;33m,\u001b[0m\u001b[1;33m\u001b[0m\u001b[1;33m\u001b[0m\u001b[0m\n",
            "\u001b[1;31mNameError\u001b[0m: name 'port' is not defined"
          ]
        }
      ]
    },
    {
      "cell_type": "code",
      "metadata": {
        "id": "6SjWev01Wg-_",
        "colab_type": "code",
        "colab": {}
      },
      "source": [
        "# list all tables\n",
        "cursor = connection.cursor()\n",
        "cursor.execute(\"show tables;\")\n",
        "tables = cursor.fetchall()\n",
        "cursor.close()\n",
        "print(tables)"
      ],
      "execution_count": 0,
      "outputs": []
    },
    {
      "cell_type": "code",
      "metadata": {
        "id": "RBLRyhe_WOw-",
        "colab_type": "code",
        "colab": {}
      },
      "source": [
        "# Use with statement instead of cursor.close()\n",
        "with connection.cursor() as cursor:\n",
        "  # Read a single record\n",
        "  sql = \"SELECT * FROM online_retail limit 500;\"\n",
        "  cursor.execute(sql)\n",
        "  result = cursor.fetchall()\n",
        "\n",
        "print(result)"
      ],
      "execution_count": 0,
      "outputs": []
    },
    {
      "cell_type": "code",
      "metadata": {
        "id": "B-2YAb66Y7HR",
        "colab_type": "code",
        "colab": {}
      },
      "source": [
        "print(type(result))\n",
        "print(len(result))"
      ],
      "execution_count": 0,
      "outputs": []
    },
    {
      "cell_type": "code",
      "metadata": {
        "id": "78oqloFtZbRA",
        "colab_type": "code",
        "colab": {}
      },
      "source": [
        "retail = pd.DataFrame(result)\n",
        "retail"
      ],
      "execution_count": 0,
      "outputs": []
    },
    {
      "cell_type": "code",
      "metadata": {
        "id": "b3DXBUqySuSq",
        "colab_type": "code",
        "colab": {}
      },
      "source": [
        ""
      ],
      "execution_count": 0,
      "outputs": []
    }
  ]
}